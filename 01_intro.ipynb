{
 "cells": [
  {
   "attachments": {},
   "cell_type": "markdown",
   "metadata": {},
   "source": [
    "# Preparación de ambiente\n",
    "\n",
    "* Instalar Python 3\n",
    "* Instalar VS Code\n",
    "* Crear \"Virtual Environment\" (`venv`)\n",
    "* Activar \"Virtual Environment\"\n",
    "* Instalar módulo jupyter usando `pip`\n",
    "\n",
    "### Instalar Python 3\n",
    "\n",
    "https://www.python.org/downloads/\n",
    "\n",
    "### Instalar VS Code\n",
    "\n",
    "https://code.visualstudio.com/download\n",
    "\n",
    "### Crear y Activar \"Virtual Environment\" venv\n",
    "1.- Crear carpeta para el proyecto en tu sistema operativo, y luego abrir la carpeta con VS Code.\n",
    "\n",
    "2.- Desde la terminal (usar IDE) ejecutar lo siguiente:\n",
    "\n",
    "```\n",
    "#Linux/Mac\n",
    "python3 -m venv venv\n",
    "source ./venv/bin/activate\n",
    "\n",
    "#Windows\n",
    "C:\\Python311\\python.exe -m venv venv\n",
    "venv\\Scripts\\activate\n",
    "```\n",
    "\n",
    "### Instalar módulo jupyter usando pip\n",
    "\n",
    "Desde la terminal (usar IDE) ejecutar lo siguiente:\n",
    "\n",
    "```\n",
    "pip install jupyter\n",
    "```\n",
    "\n",
    "Si todo sale bien debiesemos poder crear nuestro 1er **notebook** para trabajar.\n",
    "\n",
    "En VS Code, crear un archivo llamado ***intro.ipynb***"
   ]
  },
  {
   "cell_type": "code",
   "execution_count": null,
   "metadata": {},
   "outputs": [],
   "source": [
    "print(\"Esto debiese funcionar si todo va bien!\")"
   ]
  },
  {
   "attachments": {},
   "cell_type": "markdown",
   "metadata": {},
   "source": [
    "# Variables\n",
    "* Asignación de variables (guardar un valor en una variable)\n",
    "* Cambiar valor de una variable\n",
    "* Multiples valores a multiples variables\n",
    "* None"
   ]
  },
  {
   "cell_type": "code",
   "execution_count": null,
   "metadata": {},
   "outputs": [],
   "source": []
  },
  {
   "attachments": {},
   "cell_type": "markdown",
   "metadata": {},
   "source": [
    "# Tipos de Datos\n",
    "* Numericos (Integer, Float, Complex)\n",
    "* Booleanos (True/False)\n",
    "* Compuestos (String, List, Tuple, Set, Dictionary)\n",
    "* Conversion de tipo (int a str, str a int, int a float, etc)"
   ]
  },
  {
   "cell_type": "code",
   "execution_count": null,
   "metadata": {},
   "outputs": [],
   "source": [
    "descuento = 0.25\n",
    "precio = 1990\n",
    "aplica_descuento = True\n",
    "\n",
    "nombre = \"Juan\"\n",
    "apellido = \"Perez\"\n",
    "\n",
    "print(nombre + \" \" + apellido)\n",
    "print(\"%s %s\" % (nombre, apellido))\n",
    "print(\"{} {}\".format(nombre, apellido))\n",
    "print(f\"{nombre} {apellido}\")"
   ]
  },
  {
   "attachments": {},
   "cell_type": "markdown",
   "metadata": {},
   "source": [
    "# Estructuras de Datos\n",
    "* Listas (list)\n",
    "    * Indice (positivo y negativo)\n",
    "    * Función `len`\n",
    "    * Funciones básicas (append, remove, sort)\n",
    "    * Slicing\n",
    "* Tuplas (tuple)\n",
    "    * Indice (positivo y negativo)\n",
    "    * Función `len`\n",
    "    * Funciones básicas (count, index)\n",
    "    * Inmutable (imposible asignar nuevo valor luego de inicializado)\n",
    "* Set (set)\n",
    "    * Función `len`\n",
    "    * Funciones básicas (add, remove, discard, clear, union, intersection, difference)\n",
    "    * Función `set`\n",
    "* Diccionarios (dictionary)\n",
    "    * Función `len`\n",
    "    * Funciones básicas (keys, values, items, get, pop, update)\n",
    "    * `del` keyword (variable, dict, key, etc)\n",
    "    * Keys e Inmutabilidad"
   ]
  },
  {
   "cell_type": "code",
   "execution_count": null,
   "metadata": {},
   "outputs": [],
   "source": []
  },
  {
   "attachments": {},
   "cell_type": "markdown",
   "metadata": {},
   "source": [
    "# Funciones\n",
    "* Header y definición de la función\n",
    "* Body e Indentación de la función\n",
    "* (Opcional) Argumentos de la función\n",
    "* (Opcional) Retorno de la función\n",
    "* (Opcional) Defaults\n",
    "* (Opcional) TypeHints"
   ]
  },
  {
   "cell_type": "code",
   "execution_count": null,
   "metadata": {},
   "outputs": [],
   "source": []
  },
  {
   "attachments": {},
   "cell_type": "markdown",
   "metadata": {},
   "source": [
    "# Condicionales\n",
    "* Condición\n",
    "* Cuerpo e Indentación del bloque de código condicional\n",
    "* if else\n",
    "* if elif else\n",
    "* Algebra booleana y operadores lógicos (Teorema de DeMorgan)"
   ]
  },
  {
   "cell_type": "code",
   "execution_count": null,
   "metadata": {},
   "outputs": [],
   "source": []
  },
  {
   "attachments": {},
   "cell_type": "markdown",
   "metadata": {},
   "source": [
    "# Loops\n",
    "* For loops\n",
    "* While loops\n",
    "* For range loops"
   ]
  },
  {
   "cell_type": "code",
   "execution_count": null,
   "metadata": {},
   "outputs": [],
   "source": []
  },
  {
   "attachments": {},
   "cell_type": "markdown",
   "metadata": {},
   "source": [
    "# Módulos (math, statistics, tkinter)\n",
    "\n",
    "* Import, From y Alias\n",
    "* Módulos externos (pip install)\n",
    "* Uso de tkinter"
   ]
  },
  {
   "cell_type": "code",
   "execution_count": null,
   "metadata": {},
   "outputs": [],
   "source": []
  },
  {
   "attachments": {},
   "cell_type": "markdown",
   "metadata": {},
   "source": [
    "# Spoilers siguientes sesiones!\n",
    "* Funciones avanzadas (Variables locales y globales, funciones anidadas, funciones lambda, funciones como argumentos, funciones recursivas)\n",
    "* Diccionarios y Listas anidadas\n",
    "* Algoritmos y tabla de trazabilidad\n",
    "* Manipulación de archivos\n",
    "* Manejo de errores\n",
    "* SQL\n",
    "* JSON y Protocolo HTTP\n",
    "* Pandas y/o NumPy\n",
    "* Programación Orientada a Objetos"
   ]
  }
 ],
 "metadata": {
  "language_info": {
   "name": "python"
  },
  "orig_nbformat": 4
 },
 "nbformat": 4,
 "nbformat_minor": 2
}
