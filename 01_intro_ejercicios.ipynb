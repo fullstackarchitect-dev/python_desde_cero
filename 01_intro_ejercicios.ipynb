{
 "cells": [
  {
   "attachments": {},
   "cell_type": "markdown",
   "metadata": {},
   "source": [
    "# Ejercicios Variables y Tipos de Datos\n",
    "\n",
    "* Crear las variables `x` e `y` y asignarles un numero\n",
    "* Sumar las variables y asignar el resultado de la suma a la variable `suma`\n",
    "* Restar las variables y asignar el resultado de la resta a la variable `resta`\n",
    "* Multiplicar las variables `suma`y `resta` y asignar el resultado a una variable `mult`\n",
    "* Crear una variable `numero_diez` de tipo str con el valor \"10\"\n",
    "* Crear una variable `numero_pi` de tipo str con el valor \"3.14\"\n",
    "* Sumar las variables `numero_diez` y la variable `numero_pi` para que el resultado sea 13.14"
   ]
  },
  {
   "cell_type": "code",
   "execution_count": null,
   "metadata": {},
   "outputs": [],
   "source": []
  },
  {
   "attachments": {},
   "cell_type": "markdown",
   "metadata": {},
   "source": [
    "# Ejercicios Estructuras de Datos\n",
    "\n",
    "* Crear una lista `my_list` con 3 numeros enteros\n",
    "* Agregar un numero entero a `my_list`posterior a su inicialización\n",
    "* Sumar todos los elementos de `my_list` y asignar el resultado en una variable `suma`\n",
    "* Utilizar función *print* para mostrar `my_list` con los elementos ordenados de menor a mayor\n",
    "* Crear una tupla `my_tuple` con 3 palabras (Strings)\n",
    "* Concatenar las 3 palabras de `my_tuple` y asignar el resultado en una variable `concatenado`\n",
    "* Crear un set `my_set` con 5 valores decimales\n",
    "* Agregar 2 veces un número nuevo\n",
    "* Utilizar función *print* para mostrar `my_set`\n",
    "* Crear una variable `set_size` y asignarle como valor el número de elementos de `my_set`"
   ]
  },
  {
   "cell_type": "code",
   "execution_count": null,
   "metadata": {},
   "outputs": [],
   "source": []
  }
 ],
 "metadata": {
  "language_info": {
   "name": "python"
  },
  "orig_nbformat": 4
 },
 "nbformat": 4,
 "nbformat_minor": 2
}
