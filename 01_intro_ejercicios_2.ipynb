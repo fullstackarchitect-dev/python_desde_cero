{
 "cells": [
  {
   "attachments": {},
   "cell_type": "markdown",
   "metadata": {},
   "source": [
    "# Diccionarios\n",
    "* Crear un diccionario llamado **persona** con las llaves `nombre`, `apellido`, `edad` y sus valores respectivos.\n",
    "* Agregar una llave `puede_votar` con tipo de dato bool.\n",
    "* Agregar otra llave `juegos_favoritos` con una **lista** de strings.\n",
    "* Modificar la lista `juegos_favoritos` para agregar el juego \"Duck Hunt\".\n",
    "* Eliminar la llave `apellido`.\n",
    "* Concatenar los siguientes diccionarios para crear uno nuevo con todos los pares de llaves/valores:\n",
    "```\n",
    "    dic1 = {1:\"uno\"}\n",
    "    dic2 = {2:\"dos\"}\n",
    "    dic3 = {3:\"tres\"}\n",
    "```"
   ]
  },
  {
   "cell_type": "code",
   "execution_count": null,
   "metadata": {},
   "outputs": [],
   "source": []
  },
  {
   "attachments": {},
   "cell_type": "markdown",
   "metadata": {},
   "source": [
    "# Funciones\n",
    "* Crear una funcion que reciba de argumentos 2 números enteros `x` e `y`, y retorne un diccionario que contenga las llaves `suma` y `multiplicacion`, donde los valores sean la operación aritmetica correspondiente entre `x` y `y`.\n",
    "* Crear una función llamada `agregar_producto` que acepte como argumentos un `nombre` de producto, y una `cantidad`. Dejar la cantidad opcional con un valor por defecto de 1, y que la función no retorne nada pero imprima por pantalla el producto y cantidad agregada.\n",
    "* Modificar ambas funciones para agregar TypeHints."
   ]
  },
  {
   "cell_type": "code",
   "execution_count": null,
   "metadata": {},
   "outputs": [],
   "source": []
  }
 ],
 "metadata": {
  "language_info": {
   "name": "python"
  },
  "orig_nbformat": 4
 },
 "nbformat": 4,
 "nbformat_minor": 2
}
